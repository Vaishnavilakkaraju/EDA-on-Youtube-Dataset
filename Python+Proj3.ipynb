{
 "cells": [
  {
   "cell_type": "markdown",
   "id": "b216ea3d",
   "metadata": {
    "ExecuteTime": {
     "end_time": "2023-11-20T05:29:44.376297Z",
     "start_time": "2023-11-20T05:29:44.368367Z"
    }
   },
   "source": [
    "****Exploratory Data Analysis**** "
   ]
  },
  {
   "cell_type": "markdown",
   "id": "4b26d066",
   "metadata": {
    "ExecuteTime": {
     "end_time": "2023-11-20T05:35:09.860223Z",
     "start_time": "2023-11-20T05:35:09.838099Z"
    }
   },
   "source": [
    "****1) Import required libraries and read the provided dataset (youtube_dislike_dataset.csv) and retrieve top 5 and bottom 5 records.****"
   ]
  },
  {
   "cell_type": "markdown",
   "id": "fbbd4dc7",
   "metadata": {},
   "source": [
    "****Importing libraries****"
   ]
  },
  {
   "cell_type": "code",
   "execution_count": 2,
   "id": "e6be107b",
   "metadata": {
    "ExecuteTime": {
     "end_time": "2023-11-25T14:50:45.513851Z",
     "start_time": "2023-11-25T14:50:39.736001Z"
    }
   },
   "outputs": [],
   "source": [
    "import pandas as pd\n",
    "\n",
    "import matplotlib.pyplot as plt\n",
    "import seaborn as sns\n",
    "\n",
    "from sklearn.linear_model import LogisticRegression\n",
    "\n",
    "from sklearn.metrics import classification_report\n",
    "\n",
    "import statsmodels.api as sm"
   ]
  },
  {
   "cell_type": "markdown",
   "id": "d5b680ab",
   "metadata": {
    "ExecuteTime": {
     "end_time": "2023-11-20T05:33:38.295691Z",
     "start_time": "2023-11-20T05:33:38.286965Z"
    }
   },
   "source": [
    "****Data Collection****"
   ]
  },
  {
   "cell_type": "code",
   "execution_count": 3,
   "id": "9a27dbd8",
   "metadata": {
    "ExecuteTime": {
     "end_time": "2023-11-25T14:50:46.224044Z",
     "start_time": "2023-11-25T14:50:45.840946Z"
    }
   },
   "outputs": [
    {
     "ename": "NameError",
     "evalue": "name 'df' is not defined",
     "output_type": "error",
     "traceback": [
      "\u001b[1;31m---------------------------------------------------------------------------\u001b[0m",
      "\u001b[1;31mNameError\u001b[0m                                 Traceback (most recent call last)",
      "Cell \u001b[1;32mIn[3], line 1\u001b[0m\n\u001b[1;32m----> 1\u001b[0m df\n",
      "\u001b[1;31mNameError\u001b[0m: name 'df' is not defined"
     ]
    }
   ],
   "source": [
    "df"
   ]
  },
  {
   "cell_type": "code",
   "execution_count": 4,
   "id": "7fb871c3",
   "metadata": {
    "ExecuteTime": {
     "end_time": "2023-11-25T14:50:51.135030Z",
     "start_time": "2023-11-25T14:50:49.068198Z"
    }
   },
   "outputs": [],
   "source": [
    "df = pd.read_csv('youtube_dislike_dataset.csv')"
   ]
  },
  {
   "cell_type": "code",
   "execution_count": 5,
   "id": "513c6052",
   "metadata": {
    "ExecuteTime": {
     "end_time": "2023-11-25T14:50:51.590396Z",
     "start_time": "2023-11-25T14:50:51.557154Z"
    }
   },
   "outputs": [
    {
     "data": {
      "text/html": [
       "<div>\n",
       "<style scoped>\n",
       "    .dataframe tbody tr th:only-of-type {\n",
       "        vertical-align: middle;\n",
       "    }\n",
       "\n",
       "    .dataframe tbody tr th {\n",
       "        vertical-align: top;\n",
       "    }\n",
       "\n",
       "    .dataframe thead th {\n",
       "        text-align: right;\n",
       "    }\n",
       "</style>\n",
       "<table border=\"1\" class=\"dataframe\">\n",
       "  <thead>\n",
       "    <tr style=\"text-align: right;\">\n",
       "      <th></th>\n",
       "      <th>video_id</th>\n",
       "      <th>title</th>\n",
       "      <th>channel_id</th>\n",
       "      <th>channel_title</th>\n",
       "      <th>published_at</th>\n",
       "      <th>view_count</th>\n",
       "      <th>likes</th>\n",
       "      <th>dislikes</th>\n",
       "      <th>comment_count</th>\n",
       "      <th>tags</th>\n",
       "      <th>description</th>\n",
       "      <th>comments</th>\n",
       "    </tr>\n",
       "  </thead>\n",
       "  <tbody>\n",
       "    <tr>\n",
       "      <th>0</th>\n",
       "      <td>--0bCF-iK2E</td>\n",
       "      <td>Jadon Sancho  Magical Skills &amp; Goals</td>\n",
       "      <td>UC6UL29enLNe4mqwTfAyeNuw</td>\n",
       "      <td>Bundesliga</td>\n",
       "      <td>2021-07-01 10:00:00</td>\n",
       "      <td>1048888</td>\n",
       "      <td>19515</td>\n",
       "      <td>226</td>\n",
       "      <td>1319</td>\n",
       "      <td>football soccer ftbol alemn Bundesliga season ...</td>\n",
       "      <td>Enjoy the best skills and goals from Jadon San...</td>\n",
       "      <td>Respect to Dortmund fans,must be sad losing hi...</td>\n",
       "    </tr>\n",
       "    <tr>\n",
       "      <th>1</th>\n",
       "      <td>--14w5SOEUs</td>\n",
       "      <td>Migos - Avalanche (Official Video)</td>\n",
       "      <td>UCGIelM2Dj3zza3xyV3pL3WQ</td>\n",
       "      <td>MigosVEVO</td>\n",
       "      <td>2021-06-10 16:00:00</td>\n",
       "      <td>15352638</td>\n",
       "      <td>359277</td>\n",
       "      <td>7479</td>\n",
       "      <td>18729</td>\n",
       "      <td>Migos Avalanche Quality Control Music/Motown R...</td>\n",
       "      <td>Watch the the official video for Migos - \"Aval...</td>\n",
       "      <td>Migos just makes me want to live my live to th...</td>\n",
       "    </tr>\n",
       "    <tr>\n",
       "      <th>2</th>\n",
       "      <td>--40TEbZ9Is</td>\n",
       "      <td>Supporting Actress in a Comedy: 73rd Emmys</td>\n",
       "      <td>UClBKH8yZRcM4AsRjDVEdjMg</td>\n",
       "      <td>Television Academy</td>\n",
       "      <td>2021-09-20 01:03:32</td>\n",
       "      <td>925281</td>\n",
       "      <td>11212</td>\n",
       "      <td>401</td>\n",
       "      <td>831</td>\n",
       "      <td></td>\n",
       "      <td>Hannah Waddingham wins the Emmy for Supporting...</td>\n",
       "      <td>Hannah's energy bursts through any screen. Wel...</td>\n",
       "    </tr>\n",
       "    <tr>\n",
       "      <th>3</th>\n",
       "      <td>--4tfbSyYDE</td>\n",
       "      <td>JO1'YOUNG (JO1 ver.)' PERFORMANCE VIDEO</td>\n",
       "      <td>UCsmXiDP8S40uBeJYxvyulmA</td>\n",
       "      <td>JO1</td>\n",
       "      <td>2021-03-03 10:00:17</td>\n",
       "      <td>2641597</td>\n",
       "      <td>39131</td>\n",
       "      <td>441</td>\n",
       "      <td>3745</td>\n",
       "      <td>PRODUCE101JAPAN              JO1   TheSTAR STA...</td>\n",
       "      <td>JO1'YOUNG (JO1 ver.)' PERFORMANCE VIDEO\\n\\n---...</td>\n",
       "      <td>youngVer&gt;&lt;  REN is really PERFECT. It's not ju...</td>\n",
       "    </tr>\n",
       "    <tr>\n",
       "      <th>4</th>\n",
       "      <td>--DKkzWVh-E</td>\n",
       "      <td>Why Retaining Walls Collapse</td>\n",
       "      <td>UCMOqf8ab-42UUQIdVoKwjlQ</td>\n",
       "      <td>Practical Engineering</td>\n",
       "      <td>2021-12-07 13:00:00</td>\n",
       "      <td>715724</td>\n",
       "      <td>32887</td>\n",
       "      <td>367</td>\n",
       "      <td>1067</td>\n",
       "      <td>retaining wall New Jersey highway Direct Conne...</td>\n",
       "      <td>One of the most important (and innocuous) part...</td>\n",
       "      <td>Keep up with all my projects here: https://pr...</td>\n",
       "    </tr>\n",
       "  </tbody>\n",
       "</table>\n",
       "</div>"
      ],
      "text/plain": [
       "      video_id                                       title  \\\n",
       "0  --0bCF-iK2E        Jadon Sancho  Magical Skills & Goals   \n",
       "1  --14w5SOEUs          Migos - Avalanche (Official Video)   \n",
       "2  --40TEbZ9Is  Supporting Actress in a Comedy: 73rd Emmys   \n",
       "3  --4tfbSyYDE     JO1'YOUNG (JO1 ver.)' PERFORMANCE VIDEO   \n",
       "4  --DKkzWVh-E                Why Retaining Walls Collapse   \n",
       "\n",
       "                 channel_id          channel_title         published_at  \\\n",
       "0  UC6UL29enLNe4mqwTfAyeNuw             Bundesliga  2021-07-01 10:00:00   \n",
       "1  UCGIelM2Dj3zza3xyV3pL3WQ              MigosVEVO  2021-06-10 16:00:00   \n",
       "2  UClBKH8yZRcM4AsRjDVEdjMg     Television Academy  2021-09-20 01:03:32   \n",
       "3  UCsmXiDP8S40uBeJYxvyulmA                    JO1  2021-03-03 10:00:17   \n",
       "4  UCMOqf8ab-42UUQIdVoKwjlQ  Practical Engineering  2021-12-07 13:00:00   \n",
       "\n",
       "   view_count   likes  dislikes  comment_count  \\\n",
       "0     1048888   19515       226           1319   \n",
       "1    15352638  359277      7479          18729   \n",
       "2      925281   11212       401            831   \n",
       "3     2641597   39131       441           3745   \n",
       "4      715724   32887       367           1067   \n",
       "\n",
       "                                                tags  \\\n",
       "0  football soccer ftbol alemn Bundesliga season ...   \n",
       "1  Migos Avalanche Quality Control Music/Motown R...   \n",
       "2                                                      \n",
       "3  PRODUCE101JAPAN              JO1   TheSTAR STA...   \n",
       "4  retaining wall New Jersey highway Direct Conne...   \n",
       "\n",
       "                                         description  \\\n",
       "0  Enjoy the best skills and goals from Jadon San...   \n",
       "1  Watch the the official video for Migos - \"Aval...   \n",
       "2  Hannah Waddingham wins the Emmy for Supporting...   \n",
       "3  JO1'YOUNG (JO1 ver.)' PERFORMANCE VIDEO\\n\\n---...   \n",
       "4  One of the most important (and innocuous) part...   \n",
       "\n",
       "                                            comments  \n",
       "0  Respect to Dortmund fans,must be sad losing hi...  \n",
       "1  Migos just makes me want to live my live to th...  \n",
       "2  Hannah's energy bursts through any screen. Wel...  \n",
       "3  youngVer><  REN is really PERFECT. It's not ju...  \n",
       "4   Keep up with all my projects here: https://pr...  "
      ]
     },
     "execution_count": 5,
     "metadata": {},
     "output_type": "execute_result"
    }
   ],
   "source": [
    "df.head(5)"
   ]
  },
  {
   "cell_type": "code",
   "execution_count": 6,
   "id": "8063df10",
   "metadata": {
    "ExecuteTime": {
     "end_time": "2023-11-25T14:50:52.026439Z",
     "start_time": "2023-11-25T14:50:52.008380Z"
    }
   },
   "outputs": [
    {
     "data": {
      "text/html": [
       "<div>\n",
       "<style scoped>\n",
       "    .dataframe tbody tr th:only-of-type {\n",
       "        vertical-align: middle;\n",
       "    }\n",
       "\n",
       "    .dataframe tbody tr th {\n",
       "        vertical-align: top;\n",
       "    }\n",
       "\n",
       "    .dataframe thead th {\n",
       "        text-align: right;\n",
       "    }\n",
       "</style>\n",
       "<table border=\"1\" class=\"dataframe\">\n",
       "  <thead>\n",
       "    <tr style=\"text-align: right;\">\n",
       "      <th></th>\n",
       "      <th>video_id</th>\n",
       "      <th>title</th>\n",
       "      <th>channel_id</th>\n",
       "      <th>channel_title</th>\n",
       "      <th>published_at</th>\n",
       "      <th>view_count</th>\n",
       "      <th>likes</th>\n",
       "      <th>dislikes</th>\n",
       "      <th>comment_count</th>\n",
       "      <th>tags</th>\n",
       "      <th>description</th>\n",
       "      <th>comments</th>\n",
       "    </tr>\n",
       "  </thead>\n",
       "  <tbody>\n",
       "    <tr>\n",
       "      <th>37417</th>\n",
       "      <td>zzd4ydafGR0</td>\n",
       "      <td>Lil Tjay - Calling My Phone (feat. 6LACK) [Off...</td>\n",
       "      <td>UCEB4a5o_6KfjxHwNMnmj54Q</td>\n",
       "      <td>Lil Tjay</td>\n",
       "      <td>2021-02-12 05:03:49</td>\n",
       "      <td>120408275</td>\n",
       "      <td>2180780</td>\n",
       "      <td>35871</td>\n",
       "      <td>81360</td>\n",
       "      <td>Lil Tjay Steady Calling My Phone Calling My Ph...</td>\n",
       "      <td>Official video for \"Calling My Phone\" by Lil T...</td>\n",
       "      <td>'DESTINED 2 WIN' OUT NOW !! https://liltjay.ln...</td>\n",
       "    </tr>\n",
       "    <tr>\n",
       "      <th>37418</th>\n",
       "      <td>zziBybeSAtw</td>\n",
       "      <td>PELICANS at LAKERS | FULL GAME HIGHLIGHTS | Ja...</td>\n",
       "      <td>UCWJ2lWNubArHWmf3FIHbfcQ</td>\n",
       "      <td>NBA</td>\n",
       "      <td>2021-01-16 05:39:05</td>\n",
       "      <td>2841917</td>\n",
       "      <td>20759</td>\n",
       "      <td>1049</td>\n",
       "      <td>2624</td>\n",
       "      <td>NBA G League Basketball game-0022000187 Lakers...</td>\n",
       "      <td>PELICANS at LAKERS | FULL GAME HIGHLIGHTS | Ja...</td>\n",
       "      <td>Montrezl Harrell is going crazy with the rebou...</td>\n",
       "    </tr>\n",
       "    <tr>\n",
       "      <th>37419</th>\n",
       "      <td>zzk09ESX7e0</td>\n",
       "      <td>[MV]  (MAMAMOO) - Where Are We Now</td>\n",
       "      <td>UCuhAUMLzJxlP1W7mEk0_6lA</td>\n",
       "      <td>MAMAMOO</td>\n",
       "      <td>2021-06-02 09:00:10</td>\n",
       "      <td>13346678</td>\n",
       "      <td>720854</td>\n",
       "      <td>4426</td>\n",
       "      <td>90616</td>\n",
       "      <td>MAMAMOO  WAW  WAW MAMAMOO WAW Where Are We Now...</td>\n",
       "      <td>[MV]  (MAMAMOO) - Where Are We Now\\n\\nInstagra...</td>\n",
       "      <td>I honestly do not know why this song hit so ha...</td>\n",
       "    </tr>\n",
       "    <tr>\n",
       "      <th>37420</th>\n",
       "      <td>zzmQEb0Em5I</td>\n",
       "      <td>FELLIPE ESCUDERO- Master Podcast  #12</td>\n",
       "      <td>UC8NjnNWMsRqq11NYvHAQb1g</td>\n",
       "      <td>Master Podcast</td>\n",
       "      <td>2020-10-20 20:59:30</td>\n",
       "      <td>252057</td>\n",
       "      <td>19198</td>\n",
       "      <td>1234</td>\n",
       "      <td>1471</td>\n",
       "      <td>master masterpodcast lord lord vinheteiro z z ...</td>\n",
       "      <td>DOCTOR HAIR\\nhttps://www.thedoctorhair.com/?fb...</td>\n",
       "      <td>Foi um prazer passar esta tarde com vocs debat...</td>\n",
       "    </tr>\n",
       "    <tr>\n",
       "      <th>37421</th>\n",
       "      <td>zzxPZwaA-8w</td>\n",
       "      <td>Gareth Bale brace secures dramatic comeback on...</td>\n",
       "      <td>UCEg25rdRZXg32iwai6N6l0w</td>\n",
       "      <td>Tottenham Hotspur</td>\n",
       "      <td>2021-05-23 21:00:31</td>\n",
       "      <td>2252090</td>\n",
       "      <td>34063</td>\n",
       "      <td>868</td>\n",
       "      <td>2004</td>\n",
       "      <td>Spurs Tottenham Hotspur   Tottenham Leicester ...</td>\n",
       "      <td>Two minute highlights from Tottenham Hotspur's...</td>\n",
       "      <td>Thank you Kane for everything you have given t...</td>\n",
       "    </tr>\n",
       "  </tbody>\n",
       "</table>\n",
       "</div>"
      ],
      "text/plain": [
       "          video_id                                              title  \\\n",
       "37417  zzd4ydafGR0  Lil Tjay - Calling My Phone (feat. 6LACK) [Off...   \n",
       "37418  zziBybeSAtw  PELICANS at LAKERS | FULL GAME HIGHLIGHTS | Ja...   \n",
       "37419  zzk09ESX7e0                 [MV]  (MAMAMOO) - Where Are We Now   \n",
       "37420  zzmQEb0Em5I              FELLIPE ESCUDERO- Master Podcast  #12   \n",
       "37421  zzxPZwaA-8w  Gareth Bale brace secures dramatic comeback on...   \n",
       "\n",
       "                     channel_id      channel_title         published_at  \\\n",
       "37417  UCEB4a5o_6KfjxHwNMnmj54Q           Lil Tjay  2021-02-12 05:03:49   \n",
       "37418  UCWJ2lWNubArHWmf3FIHbfcQ                NBA  2021-01-16 05:39:05   \n",
       "37419  UCuhAUMLzJxlP1W7mEk0_6lA            MAMAMOO  2021-06-02 09:00:10   \n",
       "37420  UC8NjnNWMsRqq11NYvHAQb1g     Master Podcast  2020-10-20 20:59:30   \n",
       "37421  UCEg25rdRZXg32iwai6N6l0w  Tottenham Hotspur  2021-05-23 21:00:31   \n",
       "\n",
       "       view_count    likes  dislikes  comment_count  \\\n",
       "37417   120408275  2180780     35871          81360   \n",
       "37418     2841917    20759      1049           2624   \n",
       "37419    13346678   720854      4426          90616   \n",
       "37420      252057    19198      1234           1471   \n",
       "37421     2252090    34063       868           2004   \n",
       "\n",
       "                                                    tags  \\\n",
       "37417  Lil Tjay Steady Calling My Phone Calling My Ph...   \n",
       "37418  NBA G League Basketball game-0022000187 Lakers...   \n",
       "37419  MAMAMOO  WAW  WAW MAMAMOO WAW Where Are We Now...   \n",
       "37420  master masterpodcast lord lord vinheteiro z z ...   \n",
       "37421  Spurs Tottenham Hotspur   Tottenham Leicester ...   \n",
       "\n",
       "                                             description  \\\n",
       "37417  Official video for \"Calling My Phone\" by Lil T...   \n",
       "37418  PELICANS at LAKERS | FULL GAME HIGHLIGHTS | Ja...   \n",
       "37419  [MV]  (MAMAMOO) - Where Are We Now\\n\\nInstagra...   \n",
       "37420  DOCTOR HAIR\\nhttps://www.thedoctorhair.com/?fb...   \n",
       "37421  Two minute highlights from Tottenham Hotspur's...   \n",
       "\n",
       "                                                comments  \n",
       "37417  'DESTINED 2 WIN' OUT NOW !! https://liltjay.ln...  \n",
       "37418  Montrezl Harrell is going crazy with the rebou...  \n",
       "37419  I honestly do not know why this song hit so ha...  \n",
       "37420  Foi um prazer passar esta tarde com vocs debat...  \n",
       "37421  Thank you Kane for everything you have given t...  "
      ]
     },
     "execution_count": 6,
     "metadata": {},
     "output_type": "execute_result"
    }
   ],
   "source": [
    "df.tail(5)"
   ]
  },
  {
   "cell_type": "markdown",
   "id": "85ac3b9e",
   "metadata": {
    "ExecuteTime": {
     "end_time": "2023-11-20T05:37:07.701685Z",
     "start_time": "2023-11-20T05:37:07.692443Z"
    }
   },
   "source": [
    "****2)Check the info of the dataframe and write your inferences on data types and shape of the dataset.****"
   ]
  },
  {
   "cell_type": "code",
   "execution_count": 7,
   "id": "3bd066f2",
   "metadata": {
    "ExecuteTime": {
     "end_time": "2023-11-25T14:50:54.473766Z",
     "start_time": "2023-11-25T14:50:54.405369Z"
    }
   },
   "outputs": [
    {
     "name": "stdout",
     "output_type": "stream",
     "text": [
      "<class 'pandas.core.frame.DataFrame'>\n",
      "RangeIndex: 37422 entries, 0 to 37421\n",
      "Data columns (total 12 columns):\n",
      " #   Column         Non-Null Count  Dtype \n",
      "---  ------         --------------  ----- \n",
      " 0   video_id       37422 non-null  object\n",
      " 1   title          37422 non-null  object\n",
      " 2   channel_id     37422 non-null  object\n",
      " 3   channel_title  37422 non-null  object\n",
      " 4   published_at   37422 non-null  object\n",
      " 5   view_count     37422 non-null  int64 \n",
      " 6   likes          37422 non-null  int64 \n",
      " 7   dislikes       37422 non-null  int64 \n",
      " 8   comment_count  37422 non-null  int64 \n",
      " 9   tags           37422 non-null  object\n",
      " 10  description    37422 non-null  object\n",
      " 11  comments       37264 non-null  object\n",
      "dtypes: int64(4), object(8)\n",
      "memory usage: 3.4+ MB\n"
     ]
    }
   ],
   "source": [
    "df.info()"
   ]
  },
  {
   "cell_type": "code",
   "execution_count": 8,
   "id": "1f6de09f",
   "metadata": {
    "ExecuteTime": {
     "end_time": "2023-11-25T14:50:55.272014Z",
     "start_time": "2023-11-25T14:50:55.263764Z"
    }
   },
   "outputs": [
    {
     "data": {
      "text/plain": [
       "(37422, 12)"
      ]
     },
     "execution_count": 8,
     "metadata": {},
     "output_type": "execute_result"
    }
   ],
   "source": [
    "df.shape"
   ]
  },
  {
   "cell_type": "code",
   "execution_count": 9,
   "id": "2b15c92b",
   "metadata": {
    "ExecuteTime": {
     "end_time": "2023-11-25T14:50:56.198632Z",
     "start_time": "2023-11-25T14:50:56.189270Z"
    }
   },
   "outputs": [
    {
     "data": {
      "text/plain": [
       "video_id         object\n",
       "title            object\n",
       "channel_id       object\n",
       "channel_title    object\n",
       "published_at     object\n",
       "view_count        int64\n",
       "likes             int64\n",
       "dislikes          int64\n",
       "comment_count     int64\n",
       "tags             object\n",
       "description      object\n",
       "comments         object\n",
       "dtype: object"
      ]
     },
     "execution_count": 9,
     "metadata": {},
     "output_type": "execute_result"
    }
   ],
   "source": [
    "df.dtypes"
   ]
  },
  {
   "cell_type": "markdown",
   "id": "aa7e3a76",
   "metadata": {},
   "source": [
    "\"\"\"The vedio contains of 37422 data points, it has 12 columns. The dataset has null values only in the null column\"\"\""
   ]
  },
  {
   "cell_type": "markdown",
   "id": "7e96ab51",
   "metadata": {
    "ExecuteTime": {
     "end_time": "2023-11-20T05:40:01.075792Z",
     "start_time": "2023-11-20T05:40:01.060824Z"
    }
   },
   "source": [
    "  ****3)Check for the Percentage of the missing values and drop or impute them.**** "
   ]
  },
  {
   "cell_type": "code",
   "execution_count": 10,
   "id": "126b1d54",
   "metadata": {
    "ExecuteTime": {
     "end_time": "2023-11-25T14:50:58.193298Z",
     "start_time": "2023-11-25T14:50:58.139424Z"
    }
   },
   "outputs": [
    {
     "data": {
      "text/plain": [
       "video_id         0.000000\n",
       "title            0.000000\n",
       "channel_id       0.000000\n",
       "channel_title    0.000000\n",
       "published_at     0.000000\n",
       "view_count       0.000000\n",
       "likes            0.000000\n",
       "dislikes         0.000000\n",
       "comment_count    0.000000\n",
       "tags             0.000000\n",
       "description      0.000000\n",
       "comments         0.422212\n",
       "dtype: float64"
      ]
     },
     "execution_count": 10,
     "metadata": {},
     "output_type": "execute_result"
    }
   ],
   "source": [
    "df.isnull().mean()*100"
   ]
  },
  {
   "cell_type": "code",
   "execution_count": 11,
   "id": "6ac12f71",
   "metadata": {
    "ExecuteTime": {
     "end_time": "2023-11-25T14:50:59.736754Z",
     "start_time": "2023-11-25T14:50:59.703645Z"
    }
   },
   "outputs": [],
   "source": [
    "df.drop(columns=['comments'], inplace= True)"
   ]
  },
  {
   "cell_type": "markdown",
   "id": "d764519d",
   "metadata": {
    "ExecuteTime": {
     "end_time": "2023-11-20T05:41:02.493729Z",
     "start_time": "2023-11-20T05:41:02.479973Z"
    }
   },
   "source": [
    "****4)Check the statistical summary of both numerical and categorical columns and write your inferences.****"
   ]
  },
  {
   "cell_type": "code",
   "execution_count": 12,
   "id": "bd08a256",
   "metadata": {
    "ExecuteTime": {
     "end_time": "2023-11-25T14:51:01.637671Z",
     "start_time": "2023-11-25T14:51:01.455693Z"
    }
   },
   "outputs": [
    {
     "data": {
      "text/html": [
       "<div>\n",
       "<style scoped>\n",
       "    .dataframe tbody tr th:only-of-type {\n",
       "        vertical-align: middle;\n",
       "    }\n",
       "\n",
       "    .dataframe tbody tr th {\n",
       "        vertical-align: top;\n",
       "    }\n",
       "\n",
       "    .dataframe thead th {\n",
       "        text-align: right;\n",
       "    }\n",
       "</style>\n",
       "<table border=\"1\" class=\"dataframe\">\n",
       "  <thead>\n",
       "    <tr style=\"text-align: right;\">\n",
       "      <th></th>\n",
       "      <th>video_id</th>\n",
       "      <th>title</th>\n",
       "      <th>channel_id</th>\n",
       "      <th>channel_title</th>\n",
       "      <th>published_at</th>\n",
       "      <th>tags</th>\n",
       "      <th>description</th>\n",
       "    </tr>\n",
       "  </thead>\n",
       "  <tbody>\n",
       "    <tr>\n",
       "      <th>count</th>\n",
       "      <td>37422</td>\n",
       "      <td>37422</td>\n",
       "      <td>37422</td>\n",
       "      <td>37422</td>\n",
       "      <td>37422</td>\n",
       "      <td>37422</td>\n",
       "      <td>37422</td>\n",
       "    </tr>\n",
       "    <tr>\n",
       "      <th>unique</th>\n",
       "      <td>37422</td>\n",
       "      <td>37113</td>\n",
       "      <td>10961</td>\n",
       "      <td>10883</td>\n",
       "      <td>36772</td>\n",
       "      <td>28799</td>\n",
       "      <td>35630</td>\n",
       "    </tr>\n",
       "    <tr>\n",
       "      <th>top</th>\n",
       "      <td>--0bCF-iK2E</td>\n",
       "      <td>www</td>\n",
       "      <td>UCNAf1k0yIjyGu3k9BwAg3lg</td>\n",
       "      <td>Sky Sports Football</td>\n",
       "      <td>2020-10-16 04:00:10</td>\n",
       "      <td></td>\n",
       "      <td></td>\n",
       "    </tr>\n",
       "    <tr>\n",
       "      <th>freq</th>\n",
       "      <td>1</td>\n",
       "      <td>21</td>\n",
       "      <td>533</td>\n",
       "      <td>533</td>\n",
       "      <td>6</td>\n",
       "      <td>3817</td>\n",
       "      <td>589</td>\n",
       "    </tr>\n",
       "  </tbody>\n",
       "</table>\n",
       "</div>"
      ],
      "text/plain": [
       "           video_id  title                channel_id        channel_title  \\\n",
       "count         37422  37422                     37422                37422   \n",
       "unique        37422  37113                     10961                10883   \n",
       "top     --0bCF-iK2E    www  UCNAf1k0yIjyGu3k9BwAg3lg  Sky Sports Football   \n",
       "freq              1     21                       533                  533   \n",
       "\n",
       "               published_at   tags description  \n",
       "count                 37422  37422       37422  \n",
       "unique                36772  28799       35630  \n",
       "top     2020-10-16 04:00:10                     \n",
       "freq                      6   3817         589  "
      ]
     },
     "execution_count": 12,
     "metadata": {},
     "output_type": "execute_result"
    }
   ],
   "source": [
    "df.describe()\n",
    "df.describe(include = 'object')"
   ]
  },
  {
   "cell_type": "markdown",
   "id": "d62baffe",
   "metadata": {},
   "source": [
    "\"\"\"There are Unique_id for every vedio. The data set contains no missing values or duplicates in the categorical values,'Sky Sports Football'is the top channel title.\"\"\""
   ]
  },
  {
   "cell_type": "markdown",
   "id": "16042214",
   "metadata": {
    "ExecuteTime": {
     "end_time": "2023-11-20T05:43:32.430445Z",
     "start_time": "2023-11-20T05:43:32.415386Z"
    }
   },
   "source": [
    "****5). Convert datatype of column published_at from object to pandas datetime.****"
   ]
  },
  {
   "cell_type": "code",
   "execution_count": 13,
   "id": "b346190a",
   "metadata": {
    "ExecuteTime": {
     "end_time": "2023-11-25T14:51:03.207336Z",
     "start_time": "2023-11-25T14:51:03.133979Z"
    }
   },
   "outputs": [],
   "source": [
    "df[\"published_at\"]=pd.to_datetime(df[\"published_at\"])"
   ]
  },
  {
   "cell_type": "code",
   "execution_count": 14,
   "id": "2f26c1ce",
   "metadata": {
    "ExecuteTime": {
     "end_time": "2023-11-25T14:51:03.982704Z",
     "start_time": "2023-11-25T14:51:03.946924Z"
    }
   },
   "outputs": [
    {
     "name": "stdout",
     "output_type": "stream",
     "text": [
      "<class 'pandas.core.frame.DataFrame'>\n",
      "RangeIndex: 37422 entries, 0 to 37421\n",
      "Data columns (total 11 columns):\n",
      " #   Column         Non-Null Count  Dtype         \n",
      "---  ------         --------------  -----         \n",
      " 0   video_id       37422 non-null  object        \n",
      " 1   title          37422 non-null  object        \n",
      " 2   channel_id     37422 non-null  object        \n",
      " 3   channel_title  37422 non-null  object        \n",
      " 4   published_at   37422 non-null  datetime64[ns]\n",
      " 5   view_count     37422 non-null  int64         \n",
      " 6   likes          37422 non-null  int64         \n",
      " 7   dislikes       37422 non-null  int64         \n",
      " 8   comment_count  37422 non-null  int64         \n",
      " 9   tags           37422 non-null  object        \n",
      " 10  description    37422 non-null  object        \n",
      "dtypes: datetime64[ns](1), int64(4), object(6)\n",
      "memory usage: 3.1+ MB\n"
     ]
    }
   ],
   "source": [
    "df.info()"
   ]
  },
  {
   "cell_type": "markdown",
   "id": "9eee6df9",
   "metadata": {
    "ExecuteTime": {
     "end_time": "2023-11-22T05:44:31.352498Z",
     "start_time": "2023-11-22T05:44:31.304494Z"
    }
   },
   "source": [
    "****6)Create a new column as 'published_month' using the column published_at (display the months only)****"
   ]
  },
  {
   "cell_type": "code",
   "execution_count": 15,
   "id": "7a53bea0",
   "metadata": {
    "ExecuteTime": {
     "end_time": "2023-11-25T14:51:05.591099Z",
     "start_time": "2023-11-25T14:51:05.537256Z"
    }
   },
   "outputs": [
    {
     "data": {
      "text/html": [
       "<div>\n",
       "<style scoped>\n",
       "    .dataframe tbody tr th:only-of-type {\n",
       "        vertical-align: middle;\n",
       "    }\n",
       "\n",
       "    .dataframe tbody tr th {\n",
       "        vertical-align: top;\n",
       "    }\n",
       "\n",
       "    .dataframe thead th {\n",
       "        text-align: right;\n",
       "    }\n",
       "</style>\n",
       "<table border=\"1\" class=\"dataframe\">\n",
       "  <thead>\n",
       "    <tr style=\"text-align: right;\">\n",
       "      <th></th>\n",
       "      <th>video_id</th>\n",
       "      <th>title</th>\n",
       "      <th>channel_id</th>\n",
       "      <th>channel_title</th>\n",
       "      <th>published_at</th>\n",
       "      <th>view_count</th>\n",
       "      <th>likes</th>\n",
       "      <th>dislikes</th>\n",
       "      <th>comment_count</th>\n",
       "      <th>tags</th>\n",
       "      <th>description</th>\n",
       "      <th>published_month</th>\n",
       "    </tr>\n",
       "  </thead>\n",
       "  <tbody>\n",
       "    <tr>\n",
       "      <th>0</th>\n",
       "      <td>--0bCF-iK2E</td>\n",
       "      <td>Jadon Sancho  Magical Skills &amp; Goals</td>\n",
       "      <td>UC6UL29enLNe4mqwTfAyeNuw</td>\n",
       "      <td>Bundesliga</td>\n",
       "      <td>2021-07-01 10:00:00</td>\n",
       "      <td>1048888</td>\n",
       "      <td>19515</td>\n",
       "      <td>226</td>\n",
       "      <td>1319</td>\n",
       "      <td>football soccer ftbol alemn Bundesliga season ...</td>\n",
       "      <td>Enjoy the best skills and goals from Jadon San...</td>\n",
       "      <td>7</td>\n",
       "    </tr>\n",
       "    <tr>\n",
       "      <th>1</th>\n",
       "      <td>--14w5SOEUs</td>\n",
       "      <td>Migos - Avalanche (Official Video)</td>\n",
       "      <td>UCGIelM2Dj3zza3xyV3pL3WQ</td>\n",
       "      <td>MigosVEVO</td>\n",
       "      <td>2021-06-10 16:00:00</td>\n",
       "      <td>15352638</td>\n",
       "      <td>359277</td>\n",
       "      <td>7479</td>\n",
       "      <td>18729</td>\n",
       "      <td>Migos Avalanche Quality Control Music/Motown R...</td>\n",
       "      <td>Watch the the official video for Migos - \"Aval...</td>\n",
       "      <td>6</td>\n",
       "    </tr>\n",
       "    <tr>\n",
       "      <th>2</th>\n",
       "      <td>--40TEbZ9Is</td>\n",
       "      <td>Supporting Actress in a Comedy: 73rd Emmys</td>\n",
       "      <td>UClBKH8yZRcM4AsRjDVEdjMg</td>\n",
       "      <td>Television Academy</td>\n",
       "      <td>2021-09-20 01:03:32</td>\n",
       "      <td>925281</td>\n",
       "      <td>11212</td>\n",
       "      <td>401</td>\n",
       "      <td>831</td>\n",
       "      <td></td>\n",
       "      <td>Hannah Waddingham wins the Emmy for Supporting...</td>\n",
       "      <td>9</td>\n",
       "    </tr>\n",
       "    <tr>\n",
       "      <th>3</th>\n",
       "      <td>--4tfbSyYDE</td>\n",
       "      <td>JO1'YOUNG (JO1 ver.)' PERFORMANCE VIDEO</td>\n",
       "      <td>UCsmXiDP8S40uBeJYxvyulmA</td>\n",
       "      <td>JO1</td>\n",
       "      <td>2021-03-03 10:00:17</td>\n",
       "      <td>2641597</td>\n",
       "      <td>39131</td>\n",
       "      <td>441</td>\n",
       "      <td>3745</td>\n",
       "      <td>PRODUCE101JAPAN              JO1   TheSTAR STA...</td>\n",
       "      <td>JO1'YOUNG (JO1 ver.)' PERFORMANCE VIDEO\\n\\n---...</td>\n",
       "      <td>3</td>\n",
       "    </tr>\n",
       "    <tr>\n",
       "      <th>4</th>\n",
       "      <td>--DKkzWVh-E</td>\n",
       "      <td>Why Retaining Walls Collapse</td>\n",
       "      <td>UCMOqf8ab-42UUQIdVoKwjlQ</td>\n",
       "      <td>Practical Engineering</td>\n",
       "      <td>2021-12-07 13:00:00</td>\n",
       "      <td>715724</td>\n",
       "      <td>32887</td>\n",
       "      <td>367</td>\n",
       "      <td>1067</td>\n",
       "      <td>retaining wall New Jersey highway Direct Conne...</td>\n",
       "      <td>One of the most important (and innocuous) part...</td>\n",
       "      <td>12</td>\n",
       "    </tr>\n",
       "    <tr>\n",
       "      <th>...</th>\n",
       "      <td>...</td>\n",
       "      <td>...</td>\n",
       "      <td>...</td>\n",
       "      <td>...</td>\n",
       "      <td>...</td>\n",
       "      <td>...</td>\n",
       "      <td>...</td>\n",
       "      <td>...</td>\n",
       "      <td>...</td>\n",
       "      <td>...</td>\n",
       "      <td>...</td>\n",
       "      <td>...</td>\n",
       "    </tr>\n",
       "    <tr>\n",
       "      <th>37417</th>\n",
       "      <td>zzd4ydafGR0</td>\n",
       "      <td>Lil Tjay - Calling My Phone (feat. 6LACK) [Off...</td>\n",
       "      <td>UCEB4a5o_6KfjxHwNMnmj54Q</td>\n",
       "      <td>Lil Tjay</td>\n",
       "      <td>2021-02-12 05:03:49</td>\n",
       "      <td>120408275</td>\n",
       "      <td>2180780</td>\n",
       "      <td>35871</td>\n",
       "      <td>81360</td>\n",
       "      <td>Lil Tjay Steady Calling My Phone Calling My Ph...</td>\n",
       "      <td>Official video for \"Calling My Phone\" by Lil T...</td>\n",
       "      <td>2</td>\n",
       "    </tr>\n",
       "    <tr>\n",
       "      <th>37418</th>\n",
       "      <td>zziBybeSAtw</td>\n",
       "      <td>PELICANS at LAKERS | FULL GAME HIGHLIGHTS | Ja...</td>\n",
       "      <td>UCWJ2lWNubArHWmf3FIHbfcQ</td>\n",
       "      <td>NBA</td>\n",
       "      <td>2021-01-16 05:39:05</td>\n",
       "      <td>2841917</td>\n",
       "      <td>20759</td>\n",
       "      <td>1049</td>\n",
       "      <td>2624</td>\n",
       "      <td>NBA G League Basketball game-0022000187 Lakers...</td>\n",
       "      <td>PELICANS at LAKERS | FULL GAME HIGHLIGHTS | Ja...</td>\n",
       "      <td>1</td>\n",
       "    </tr>\n",
       "    <tr>\n",
       "      <th>37419</th>\n",
       "      <td>zzk09ESX7e0</td>\n",
       "      <td>[MV]  (MAMAMOO) - Where Are We Now</td>\n",
       "      <td>UCuhAUMLzJxlP1W7mEk0_6lA</td>\n",
       "      <td>MAMAMOO</td>\n",
       "      <td>2021-06-02 09:00:10</td>\n",
       "      <td>13346678</td>\n",
       "      <td>720854</td>\n",
       "      <td>4426</td>\n",
       "      <td>90616</td>\n",
       "      <td>MAMAMOO  WAW  WAW MAMAMOO WAW Where Are We Now...</td>\n",
       "      <td>[MV]  (MAMAMOO) - Where Are We Now\\n\\nInstagra...</td>\n",
       "      <td>6</td>\n",
       "    </tr>\n",
       "    <tr>\n",
       "      <th>37420</th>\n",
       "      <td>zzmQEb0Em5I</td>\n",
       "      <td>FELLIPE ESCUDERO- Master Podcast  #12</td>\n",
       "      <td>UC8NjnNWMsRqq11NYvHAQb1g</td>\n",
       "      <td>Master Podcast</td>\n",
       "      <td>2020-10-20 20:59:30</td>\n",
       "      <td>252057</td>\n",
       "      <td>19198</td>\n",
       "      <td>1234</td>\n",
       "      <td>1471</td>\n",
       "      <td>master masterpodcast lord lord vinheteiro z z ...</td>\n",
       "      <td>DOCTOR HAIR\\nhttps://www.thedoctorhair.com/?fb...</td>\n",
       "      <td>10</td>\n",
       "    </tr>\n",
       "    <tr>\n",
       "      <th>37421</th>\n",
       "      <td>zzxPZwaA-8w</td>\n",
       "      <td>Gareth Bale brace secures dramatic comeback on...</td>\n",
       "      <td>UCEg25rdRZXg32iwai6N6l0w</td>\n",
       "      <td>Tottenham Hotspur</td>\n",
       "      <td>2021-05-23 21:00:31</td>\n",
       "      <td>2252090</td>\n",
       "      <td>34063</td>\n",
       "      <td>868</td>\n",
       "      <td>2004</td>\n",
       "      <td>Spurs Tottenham Hotspur   Tottenham Leicester ...</td>\n",
       "      <td>Two minute highlights from Tottenham Hotspur's...</td>\n",
       "      <td>5</td>\n",
       "    </tr>\n",
       "  </tbody>\n",
       "</table>\n",
       "<p>37422 rows × 12 columns</p>\n",
       "</div>"
      ],
      "text/plain": [
       "          video_id                                              title  \\\n",
       "0      --0bCF-iK2E               Jadon Sancho  Magical Skills & Goals   \n",
       "1      --14w5SOEUs                 Migos - Avalanche (Official Video)   \n",
       "2      --40TEbZ9Is         Supporting Actress in a Comedy: 73rd Emmys   \n",
       "3      --4tfbSyYDE            JO1'YOUNG (JO1 ver.)' PERFORMANCE VIDEO   \n",
       "4      --DKkzWVh-E                       Why Retaining Walls Collapse   \n",
       "...            ...                                                ...   \n",
       "37417  zzd4ydafGR0  Lil Tjay - Calling My Phone (feat. 6LACK) [Off...   \n",
       "37418  zziBybeSAtw  PELICANS at LAKERS | FULL GAME HIGHLIGHTS | Ja...   \n",
       "37419  zzk09ESX7e0                 [MV]  (MAMAMOO) - Where Are We Now   \n",
       "37420  zzmQEb0Em5I              FELLIPE ESCUDERO- Master Podcast  #12   \n",
       "37421  zzxPZwaA-8w  Gareth Bale brace secures dramatic comeback on...   \n",
       "\n",
       "                     channel_id          channel_title        published_at  \\\n",
       "0      UC6UL29enLNe4mqwTfAyeNuw             Bundesliga 2021-07-01 10:00:00   \n",
       "1      UCGIelM2Dj3zza3xyV3pL3WQ              MigosVEVO 2021-06-10 16:00:00   \n",
       "2      UClBKH8yZRcM4AsRjDVEdjMg     Television Academy 2021-09-20 01:03:32   \n",
       "3      UCsmXiDP8S40uBeJYxvyulmA                    JO1 2021-03-03 10:00:17   \n",
       "4      UCMOqf8ab-42UUQIdVoKwjlQ  Practical Engineering 2021-12-07 13:00:00   \n",
       "...                         ...                    ...                 ...   \n",
       "37417  UCEB4a5o_6KfjxHwNMnmj54Q               Lil Tjay 2021-02-12 05:03:49   \n",
       "37418  UCWJ2lWNubArHWmf3FIHbfcQ                    NBA 2021-01-16 05:39:05   \n",
       "37419  UCuhAUMLzJxlP1W7mEk0_6lA                MAMAMOO 2021-06-02 09:00:10   \n",
       "37420  UC8NjnNWMsRqq11NYvHAQb1g         Master Podcast 2020-10-20 20:59:30   \n",
       "37421  UCEg25rdRZXg32iwai6N6l0w      Tottenham Hotspur 2021-05-23 21:00:31   \n",
       "\n",
       "       view_count    likes  dislikes  comment_count  \\\n",
       "0         1048888    19515       226           1319   \n",
       "1        15352638   359277      7479          18729   \n",
       "2          925281    11212       401            831   \n",
       "3         2641597    39131       441           3745   \n",
       "4          715724    32887       367           1067   \n",
       "...           ...      ...       ...            ...   \n",
       "37417   120408275  2180780     35871          81360   \n",
       "37418     2841917    20759      1049           2624   \n",
       "37419    13346678   720854      4426          90616   \n",
       "37420      252057    19198      1234           1471   \n",
       "37421     2252090    34063       868           2004   \n",
       "\n",
       "                                                    tags  \\\n",
       "0      football soccer ftbol alemn Bundesliga season ...   \n",
       "1      Migos Avalanche Quality Control Music/Motown R...   \n",
       "2                                                          \n",
       "3      PRODUCE101JAPAN              JO1   TheSTAR STA...   \n",
       "4      retaining wall New Jersey highway Direct Conne...   \n",
       "...                                                  ...   \n",
       "37417  Lil Tjay Steady Calling My Phone Calling My Ph...   \n",
       "37418  NBA G League Basketball game-0022000187 Lakers...   \n",
       "37419  MAMAMOO  WAW  WAW MAMAMOO WAW Where Are We Now...   \n",
       "37420  master masterpodcast lord lord vinheteiro z z ...   \n",
       "37421  Spurs Tottenham Hotspur   Tottenham Leicester ...   \n",
       "\n",
       "                                             description  published_month  \n",
       "0      Enjoy the best skills and goals from Jadon San...                7  \n",
       "1      Watch the the official video for Migos - \"Aval...                6  \n",
       "2      Hannah Waddingham wins the Emmy for Supporting...                9  \n",
       "3      JO1'YOUNG (JO1 ver.)' PERFORMANCE VIDEO\\n\\n---...                3  \n",
       "4      One of the most important (and innocuous) part...               12  \n",
       "...                                                  ...              ...  \n",
       "37417  Official video for \"Calling My Phone\" by Lil T...                2  \n",
       "37418  PELICANS at LAKERS | FULL GAME HIGHLIGHTS | Ja...                1  \n",
       "37419  [MV]  (MAMAMOO) - Where Are We Now\\n\\nInstagra...                6  \n",
       "37420  DOCTOR HAIR\\nhttps://www.thedoctorhair.com/?fb...               10  \n",
       "37421  Two minute highlights from Tottenham Hotspur's...                5  \n",
       "\n",
       "[37422 rows x 12 columns]"
      ]
     },
     "execution_count": 15,
     "metadata": {},
     "output_type": "execute_result"
    }
   ],
   "source": [
    "df['published_month']=df['published_at'].dt.month\n",
    "df"
   ]
  },
  {
   "cell_type": "markdown",
   "id": "550b4dfb",
   "metadata": {
    "ExecuteTime": {
     "end_time": "2023-11-22T05:48:54.729389Z",
     "start_time": "2023-11-22T05:48:54.719207Z"
    }
   },
   "source": [
    "****7)Create a new column as 'published_month' using the column published_at (display the months only)****"
   ]
  },
  {
   "cell_type": "code",
   "execution_count": 16,
   "id": "3439a52d",
   "metadata": {
    "ExecuteTime": {
     "end_time": "2023-11-25T14:51:07.394858Z",
     "start_time": "2023-11-25T14:51:07.133460Z"
    }
   },
   "outputs": [
    {
     "data": {
      "text/html": [
       "<div>\n",
       "<style scoped>\n",
       "    .dataframe tbody tr th:only-of-type {\n",
       "        vertical-align: middle;\n",
       "    }\n",
       "\n",
       "    .dataframe tbody tr th {\n",
       "        vertical-align: top;\n",
       "    }\n",
       "\n",
       "    .dataframe thead th {\n",
       "        text-align: right;\n",
       "    }\n",
       "</style>\n",
       "<table border=\"1\" class=\"dataframe\">\n",
       "  <thead>\n",
       "    <tr style=\"text-align: right;\">\n",
       "      <th></th>\n",
       "      <th>video_id</th>\n",
       "      <th>title</th>\n",
       "      <th>channel_id</th>\n",
       "      <th>channel_title</th>\n",
       "      <th>published_at</th>\n",
       "      <th>view_count</th>\n",
       "      <th>likes</th>\n",
       "      <th>dislikes</th>\n",
       "      <th>comment_count</th>\n",
       "      <th>tags</th>\n",
       "      <th>description</th>\n",
       "      <th>published_month</th>\n",
       "    </tr>\n",
       "  </thead>\n",
       "  <tbody>\n",
       "    <tr>\n",
       "      <th>0</th>\n",
       "      <td>--0bCF-iK2E</td>\n",
       "      <td>Jadon Sancho  Magical Skills &amp; Goals</td>\n",
       "      <td>UC6UL29enLNe4mqwTfAyeNuw</td>\n",
       "      <td>Bundesliga</td>\n",
       "      <td>2021-07-01 10:00:00</td>\n",
       "      <td>1048888</td>\n",
       "      <td>19515</td>\n",
       "      <td>226</td>\n",
       "      <td>1319</td>\n",
       "      <td>football soccer ftbol alemn Bundesliga season ...</td>\n",
       "      <td>Enjoy the best skills and goals from Jadon San...</td>\n",
       "      <td>July</td>\n",
       "    </tr>\n",
       "    <tr>\n",
       "      <th>1</th>\n",
       "      <td>--14w5SOEUs</td>\n",
       "      <td>Migos - Avalanche (Official Video)</td>\n",
       "      <td>UCGIelM2Dj3zza3xyV3pL3WQ</td>\n",
       "      <td>MigosVEVO</td>\n",
       "      <td>2021-06-10 16:00:00</td>\n",
       "      <td>15352638</td>\n",
       "      <td>359277</td>\n",
       "      <td>7479</td>\n",
       "      <td>18729</td>\n",
       "      <td>Migos Avalanche Quality Control Music/Motown R...</td>\n",
       "      <td>Watch the the official video for Migos - \"Aval...</td>\n",
       "      <td>June</td>\n",
       "    </tr>\n",
       "    <tr>\n",
       "      <th>2</th>\n",
       "      <td>--40TEbZ9Is</td>\n",
       "      <td>Supporting Actress in a Comedy: 73rd Emmys</td>\n",
       "      <td>UClBKH8yZRcM4AsRjDVEdjMg</td>\n",
       "      <td>Television Academy</td>\n",
       "      <td>2021-09-20 01:03:32</td>\n",
       "      <td>925281</td>\n",
       "      <td>11212</td>\n",
       "      <td>401</td>\n",
       "      <td>831</td>\n",
       "      <td></td>\n",
       "      <td>Hannah Waddingham wins the Emmy for Supporting...</td>\n",
       "      <td>September</td>\n",
       "    </tr>\n",
       "    <tr>\n",
       "      <th>3</th>\n",
       "      <td>--4tfbSyYDE</td>\n",
       "      <td>JO1'YOUNG (JO1 ver.)' PERFORMANCE VIDEO</td>\n",
       "      <td>UCsmXiDP8S40uBeJYxvyulmA</td>\n",
       "      <td>JO1</td>\n",
       "      <td>2021-03-03 10:00:17</td>\n",
       "      <td>2641597</td>\n",
       "      <td>39131</td>\n",
       "      <td>441</td>\n",
       "      <td>3745</td>\n",
       "      <td>PRODUCE101JAPAN              JO1   TheSTAR STA...</td>\n",
       "      <td>JO1'YOUNG (JO1 ver.)' PERFORMANCE VIDEO\\n\\n---...</td>\n",
       "      <td>March</td>\n",
       "    </tr>\n",
       "    <tr>\n",
       "      <th>4</th>\n",
       "      <td>--DKkzWVh-E</td>\n",
       "      <td>Why Retaining Walls Collapse</td>\n",
       "      <td>UCMOqf8ab-42UUQIdVoKwjlQ</td>\n",
       "      <td>Practical Engineering</td>\n",
       "      <td>2021-12-07 13:00:00</td>\n",
       "      <td>715724</td>\n",
       "      <td>32887</td>\n",
       "      <td>367</td>\n",
       "      <td>1067</td>\n",
       "      <td>retaining wall New Jersey highway Direct Conne...</td>\n",
       "      <td>One of the most important (and innocuous) part...</td>\n",
       "      <td>December</td>\n",
       "    </tr>\n",
       "    <tr>\n",
       "      <th>...</th>\n",
       "      <td>...</td>\n",
       "      <td>...</td>\n",
       "      <td>...</td>\n",
       "      <td>...</td>\n",
       "      <td>...</td>\n",
       "      <td>...</td>\n",
       "      <td>...</td>\n",
       "      <td>...</td>\n",
       "      <td>...</td>\n",
       "      <td>...</td>\n",
       "      <td>...</td>\n",
       "      <td>...</td>\n",
       "    </tr>\n",
       "    <tr>\n",
       "      <th>37417</th>\n",
       "      <td>zzd4ydafGR0</td>\n",
       "      <td>Lil Tjay - Calling My Phone (feat. 6LACK) [Off...</td>\n",
       "      <td>UCEB4a5o_6KfjxHwNMnmj54Q</td>\n",
       "      <td>Lil Tjay</td>\n",
       "      <td>2021-02-12 05:03:49</td>\n",
       "      <td>120408275</td>\n",
       "      <td>2180780</td>\n",
       "      <td>35871</td>\n",
       "      <td>81360</td>\n",
       "      <td>Lil Tjay Steady Calling My Phone Calling My Ph...</td>\n",
       "      <td>Official video for \"Calling My Phone\" by Lil T...</td>\n",
       "      <td>February</td>\n",
       "    </tr>\n",
       "    <tr>\n",
       "      <th>37418</th>\n",
       "      <td>zziBybeSAtw</td>\n",
       "      <td>PELICANS at LAKERS | FULL GAME HIGHLIGHTS | Ja...</td>\n",
       "      <td>UCWJ2lWNubArHWmf3FIHbfcQ</td>\n",
       "      <td>NBA</td>\n",
       "      <td>2021-01-16 05:39:05</td>\n",
       "      <td>2841917</td>\n",
       "      <td>20759</td>\n",
       "      <td>1049</td>\n",
       "      <td>2624</td>\n",
       "      <td>NBA G League Basketball game-0022000187 Lakers...</td>\n",
       "      <td>PELICANS at LAKERS | FULL GAME HIGHLIGHTS | Ja...</td>\n",
       "      <td>January</td>\n",
       "    </tr>\n",
       "    <tr>\n",
       "      <th>37419</th>\n",
       "      <td>zzk09ESX7e0</td>\n",
       "      <td>[MV]  (MAMAMOO) - Where Are We Now</td>\n",
       "      <td>UCuhAUMLzJxlP1W7mEk0_6lA</td>\n",
       "      <td>MAMAMOO</td>\n",
       "      <td>2021-06-02 09:00:10</td>\n",
       "      <td>13346678</td>\n",
       "      <td>720854</td>\n",
       "      <td>4426</td>\n",
       "      <td>90616</td>\n",
       "      <td>MAMAMOO  WAW  WAW MAMAMOO WAW Where Are We Now...</td>\n",
       "      <td>[MV]  (MAMAMOO) - Where Are We Now\\n\\nInstagra...</td>\n",
       "      <td>June</td>\n",
       "    </tr>\n",
       "    <tr>\n",
       "      <th>37420</th>\n",
       "      <td>zzmQEb0Em5I</td>\n",
       "      <td>FELLIPE ESCUDERO- Master Podcast  #12</td>\n",
       "      <td>UC8NjnNWMsRqq11NYvHAQb1g</td>\n",
       "      <td>Master Podcast</td>\n",
       "      <td>2020-10-20 20:59:30</td>\n",
       "      <td>252057</td>\n",
       "      <td>19198</td>\n",
       "      <td>1234</td>\n",
       "      <td>1471</td>\n",
       "      <td>master masterpodcast lord lord vinheteiro z z ...</td>\n",
       "      <td>DOCTOR HAIR\\nhttps://www.thedoctorhair.com/?fb...</td>\n",
       "      <td>October</td>\n",
       "    </tr>\n",
       "    <tr>\n",
       "      <th>37421</th>\n",
       "      <td>zzxPZwaA-8w</td>\n",
       "      <td>Gareth Bale brace secures dramatic comeback on...</td>\n",
       "      <td>UCEg25rdRZXg32iwai6N6l0w</td>\n",
       "      <td>Tottenham Hotspur</td>\n",
       "      <td>2021-05-23 21:00:31</td>\n",
       "      <td>2252090</td>\n",
       "      <td>34063</td>\n",
       "      <td>868</td>\n",
       "      <td>2004</td>\n",
       "      <td>Spurs Tottenham Hotspur   Tottenham Leicester ...</td>\n",
       "      <td>Two minute highlights from Tottenham Hotspur's...</td>\n",
       "      <td>May</td>\n",
       "    </tr>\n",
       "  </tbody>\n",
       "</table>\n",
       "<p>37422 rows × 12 columns</p>\n",
       "</div>"
      ],
      "text/plain": [
       "          video_id                                              title  \\\n",
       "0      --0bCF-iK2E               Jadon Sancho  Magical Skills & Goals   \n",
       "1      --14w5SOEUs                 Migos - Avalanche (Official Video)   \n",
       "2      --40TEbZ9Is         Supporting Actress in a Comedy: 73rd Emmys   \n",
       "3      --4tfbSyYDE            JO1'YOUNG (JO1 ver.)' PERFORMANCE VIDEO   \n",
       "4      --DKkzWVh-E                       Why Retaining Walls Collapse   \n",
       "...            ...                                                ...   \n",
       "37417  zzd4ydafGR0  Lil Tjay - Calling My Phone (feat. 6LACK) [Off...   \n",
       "37418  zziBybeSAtw  PELICANS at LAKERS | FULL GAME HIGHLIGHTS | Ja...   \n",
       "37419  zzk09ESX7e0                 [MV]  (MAMAMOO) - Where Are We Now   \n",
       "37420  zzmQEb0Em5I              FELLIPE ESCUDERO- Master Podcast  #12   \n",
       "37421  zzxPZwaA-8w  Gareth Bale brace secures dramatic comeback on...   \n",
       "\n",
       "                     channel_id          channel_title        published_at  \\\n",
       "0      UC6UL29enLNe4mqwTfAyeNuw             Bundesliga 2021-07-01 10:00:00   \n",
       "1      UCGIelM2Dj3zza3xyV3pL3WQ              MigosVEVO 2021-06-10 16:00:00   \n",
       "2      UClBKH8yZRcM4AsRjDVEdjMg     Television Academy 2021-09-20 01:03:32   \n",
       "3      UCsmXiDP8S40uBeJYxvyulmA                    JO1 2021-03-03 10:00:17   \n",
       "4      UCMOqf8ab-42UUQIdVoKwjlQ  Practical Engineering 2021-12-07 13:00:00   \n",
       "...                         ...                    ...                 ...   \n",
       "37417  UCEB4a5o_6KfjxHwNMnmj54Q               Lil Tjay 2021-02-12 05:03:49   \n",
       "37418  UCWJ2lWNubArHWmf3FIHbfcQ                    NBA 2021-01-16 05:39:05   \n",
       "37419  UCuhAUMLzJxlP1W7mEk0_6lA                MAMAMOO 2021-06-02 09:00:10   \n",
       "37420  UC8NjnNWMsRqq11NYvHAQb1g         Master Podcast 2020-10-20 20:59:30   \n",
       "37421  UCEg25rdRZXg32iwai6N6l0w      Tottenham Hotspur 2021-05-23 21:00:31   \n",
       "\n",
       "       view_count    likes  dislikes  comment_count  \\\n",
       "0         1048888    19515       226           1319   \n",
       "1        15352638   359277      7479          18729   \n",
       "2          925281    11212       401            831   \n",
       "3         2641597    39131       441           3745   \n",
       "4          715724    32887       367           1067   \n",
       "...           ...      ...       ...            ...   \n",
       "37417   120408275  2180780     35871          81360   \n",
       "37418     2841917    20759      1049           2624   \n",
       "37419    13346678   720854      4426          90616   \n",
       "37420      252057    19198      1234           1471   \n",
       "37421     2252090    34063       868           2004   \n",
       "\n",
       "                                                    tags  \\\n",
       "0      football soccer ftbol alemn Bundesliga season ...   \n",
       "1      Migos Avalanche Quality Control Music/Motown R...   \n",
       "2                                                          \n",
       "3      PRODUCE101JAPAN              JO1   TheSTAR STA...   \n",
       "4      retaining wall New Jersey highway Direct Conne...   \n",
       "...                                                  ...   \n",
       "37417  Lil Tjay Steady Calling My Phone Calling My Ph...   \n",
       "37418  NBA G League Basketball game-0022000187 Lakers...   \n",
       "37419  MAMAMOO  WAW  WAW MAMAMOO WAW Where Are We Now...   \n",
       "37420  master masterpodcast lord lord vinheteiro z z ...   \n",
       "37421  Spurs Tottenham Hotspur   Tottenham Leicester ...   \n",
       "\n",
       "                                             description published_month  \n",
       "0      Enjoy the best skills and goals from Jadon San...            July  \n",
       "1      Watch the the official video for Migos - \"Aval...            June  \n",
       "2      Hannah Waddingham wins the Emmy for Supporting...       September  \n",
       "3      JO1'YOUNG (JO1 ver.)' PERFORMANCE VIDEO\\n\\n---...           March  \n",
       "4      One of the most important (and innocuous) part...        December  \n",
       "...                                                  ...             ...  \n",
       "37417  Official video for \"Calling My Phone\" by Lil T...        February  \n",
       "37418  PELICANS at LAKERS | FULL GAME HIGHLIGHTS | Ja...         January  \n",
       "37419  [MV]  (MAMAMOO) - Where Are We Now\\n\\nInstagra...            June  \n",
       "37420  DOCTOR HAIR\\nhttps://www.thedoctorhair.com/?fb...         October  \n",
       "37421  Two minute highlights from Tottenham Hotspur's...             May  \n",
       "\n",
       "[37422 rows x 12 columns]"
      ]
     },
     "execution_count": 16,
     "metadata": {},
     "output_type": "execute_result"
    }
   ],
   "source": [
    "df['published_month']=df['published_at'].dt.strftime('%B')\n",
    "df"
   ]
  },
  {
   "cell_type": "markdown",
   "id": "46d8e82c",
   "metadata": {
    "ExecuteTime": {
     "end_time": "2023-11-22T09:37:21.575371Z",
     "start_time": "2023-11-22T09:37:21.571681Z"
    }
   },
   "source": [
    "****8) Find the number of videos published each month and arrange the months in a decreasing order based on the video count.****"
   ]
  },
  {
   "cell_type": "code",
   "execution_count": 17,
   "id": "fa08b981",
   "metadata": {
    "ExecuteTime": {
     "end_time": "2023-11-25T14:51:08.760224Z",
     "start_time": "2023-11-25T14:51:08.736246Z"
    }
   },
   "outputs": [
    {
     "name": "stdout",
     "output_type": "stream",
     "text": [
      "published_month\n",
      "October      4991\n",
      "September    4880\n",
      "November     4851\n",
      "August       4262\n",
      "December     3072\n",
      "July         2340\n",
      "June         2316\n",
      "March        2258\n",
      "February     2137\n",
      "April        2126\n",
      "January      2108\n",
      "May          2081\n",
      "Name: count, dtype: int64\n"
     ]
    }
   ],
   "source": [
    "monthly_published = df['published_month'].value_counts().sort_values(ascending=False)\n",
    "print(monthly_published)"
   ]
  },
  {
   "cell_type": "markdown",
   "id": "07395e81",
   "metadata": {},
   "source": [
    "****9)Find the count of unique video_id, channel_id and channel_title.****"
   ]
  },
  {
   "cell_type": "code",
   "execution_count": 18,
   "id": "2c44ab09",
   "metadata": {
    "ExecuteTime": {
     "end_time": "2023-11-25T14:51:10.469487Z",
     "start_time": "2023-11-25T14:51:10.416752Z"
    }
   },
   "outputs": [
    {
     "name": "stdout",
     "output_type": "stream",
     "text": [
      "video_id         37422\n",
      "channel_id       10961\n",
      "channel_title    10883\n",
      "dtype: int64\n"
     ]
    }
   ],
   "source": [
    "unique_id = df[['video_id','channel_id','channel_title']].nunique()\n",
    "print(unique_id)"
   ]
  },
  {
   "cell_type": "markdown",
   "id": "51d93062",
   "metadata": {},
   "source": [
    "****10) Find the top10 channel names having the highest number of videos in the dataset and the bottom10 having lowest number of videos.****"
   ]
  },
  {
   "cell_type": "code",
   "execution_count": 19,
   "id": "16cd7a5b",
   "metadata": {
    "ExecuteTime": {
     "end_time": "2023-11-25T14:51:12.274779Z",
     "start_time": "2023-11-25T14:51:12.248937Z"
    }
   },
   "outputs": [
    {
     "name": "stdout",
     "output_type": "stream",
     "text": [
      "channel_title\n",
      "Sky Sports Football    533\n",
      "The United Stand       301\n",
      "BT Sport               246\n",
      "NBA                    209\n",
      "NFL                    162\n",
      "WWE                    122\n",
      "SSSniperWolf            99\n",
      "SSundee                 98\n",
      "FORMULA 1               87\n",
      "NHL                     86\n",
      "Name: count, dtype: int64\n"
     ]
    }
   ],
   "source": [
    "top_10 = df['channel_title'].value_counts().nlargest(10)\n",
    "\n",
    "print(top_10)\n"
   ]
  },
  {
   "cell_type": "code",
   "execution_count": 20,
   "id": "033d0743",
   "metadata": {
    "ExecuteTime": {
     "end_time": "2023-11-25T14:51:13.359028Z",
     "start_time": "2023-11-25T14:51:13.331615Z"
    }
   },
   "outputs": [
    {
     "name": "stdout",
     "output_type": "stream",
     "text": [
      "channel_title\n",
      "TipTapTube           1\n",
      "Lena                 1\n",
      "Freya Nightingale    1\n",
      "zoom                 1\n",
      "Son Yaz              1\n",
      "iMan Pro             1\n",
      "Treyarch             1\n",
      "Tamil Talkies        1\n",
      "S.B HINDUSTANI       1\n",
      "Rosie and Harry      1\n",
      "Name: count, dtype: int64\n"
     ]
    }
   ],
   "source": [
    "bottom_10 = df['channel_title'].value_counts().nsmallest(10)\n",
    "\n",
    "print(bottom_10)"
   ]
  },
  {
   "cell_type": "markdown",
   "id": "bacb38cc",
   "metadata": {},
   "source": [
    "****11)Find the title of the video which has the maximum number of likes and the title of the video having minimum likes and write your inferences.****"
   ]
  },
  {
   "cell_type": "code",
   "execution_count": 21,
   "id": "bc2bd04e",
   "metadata": {
    "ExecuteTime": {
     "end_time": "2023-11-25T14:51:14.970150Z",
     "start_time": "2023-11-25T14:51:14.878309Z"
    }
   },
   "outputs": [
    {
     "data": {
      "text/plain": [
       "title\n",
       "BTS () 'Dynamite' Official MV    31837675\n",
       "Name: likes, dtype: int64"
      ]
     },
     "execution_count": 21,
     "metadata": {},
     "output_type": "execute_result"
    }
   ],
   "source": [
    "df.groupby('title')['likes'].max().sort_values(ascending = False).head(1)"
   ]
  },
  {
   "cell_type": "markdown",
   "id": "859c2d93",
   "metadata": {},
   "source": [
    "\"\"\"The vedio title with \"BTS() Dynamite Official MV\" has the maximum number of likes indicating that the most viewers liked the vedio and the content\"\"\""
   ]
  },
  {
   "cell_type": "code",
   "execution_count": 22,
   "id": "32c21587",
   "metadata": {
    "ExecuteTime": {
     "end_time": "2023-11-25T14:51:15.720109Z",
     "start_time": "2023-11-25T14:51:15.635099Z"
    }
   },
   "outputs": [
    {
     "data": {
      "text/plain": [
       "title\n",
       "Kim Kardashian's Must-See Moments on \"Saturday Night Live\" | E! News    0\n",
       "Name: likes, dtype: int64"
      ]
     },
     "execution_count": 22,
     "metadata": {},
     "output_type": "execute_result"
    }
   ],
   "source": [
    "df.groupby('title')['likes'].min().sort_values().head(1)"
   ]
  },
  {
   "cell_type": "markdown",
   "id": "edcc5ab0",
   "metadata": {},
   "source": [
    " \"\"\"The vedio with the minimum number of likes indicates that the viewers may have not fount the content in the vedio intresting.\"\"\""
   ]
  },
  {
   "cell_type": "markdown",
   "id": "8571a22f",
   "metadata": {},
   "source": [
    "****12)Find the title of the video which has the maximum number of dislikes and the title of the video having minimum dislikes and write your inferences.****"
   ]
  },
  {
   "cell_type": "code",
   "execution_count": 23,
   "id": "30ca595d",
   "metadata": {
    "ExecuteTime": {
     "end_time": "2023-11-25T14:51:17.312195Z",
     "start_time": "2023-11-25T14:51:17.222748Z"
    }
   },
   "outputs": [
    {
     "data": {
      "text/plain": [
       "title\n",
       "Cuties | Official Trailer | Netflix    2397733\n",
       "Name: dislikes, dtype: int64"
      ]
     },
     "execution_count": 23,
     "metadata": {},
     "output_type": "execute_result"
    }
   ],
   "source": [
    "df.groupby('title')['dislikes'].max().sort_values(ascending = False).head(1)"
   ]
  },
  {
   "cell_type": "markdown",
   "id": "e42e2de8",
   "metadata": {
    "ExecuteTime": {
     "end_time": "2023-11-26T05:37:16.064432Z",
     "start_time": "2023-11-26T05:37:16.042141Z"
    }
   },
   "source": [
    "\"\"\"The vedio with highest dislikes maybe is not intresting or most people did not like the content in the vedio.\"\"\""
   ]
  },
  {
   "cell_type": "code",
   "execution_count": null,
   "id": "58e6e689",
   "metadata": {
    "ExecuteTime": {
     "end_time": "2023-11-25T14:51:18.090816Z",
     "start_time": "2023-11-25T14:51:18.001553Z"
    }
   },
   "outputs": [],
   "source": [
    "df.groupby('title')['dislikes'].min().sort_values().head(1)"
   ]
  },
  {
   "cell_type": "markdown",
   "id": "6e95067c",
   "metadata": {},
   "source": [
    "\"\"\"The vedio with the 0 dislikes means that the viewers found that vedio intresting and they liked the content.\"\"\""
   ]
  },
  {
   "cell_type": "markdown",
   "id": "5192067c",
   "metadata": {},
   "source": [
    "****13)Does the number of views have any effect on how many people disliked the video? Support your answer with a metric and a plot.****"
   ]
  },
  {
   "cell_type": "code",
   "execution_count": 25,
   "id": "0442ddf1",
   "metadata": {
    "ExecuteTime": {
     "end_time": "2023-11-25T14:51:19.535121Z",
     "start_time": "2023-11-25T14:51:19.438969Z"
    }
   },
   "outputs": [
    {
     "data": {
      "text/plain": [
       "0.6844687753905542"
      ]
     },
     "execution_count": 25,
     "metadata": {},
     "output_type": "execute_result"
    }
   ],
   "source": [
    "correlation = df['view_count'].corr(df['dislikes'])\n",
    "correlation"
   ]
  },
  {
   "cell_type": "code",
   "execution_count": 26,
   "id": "2cb2fb49",
   "metadata": {
    "ExecuteTime": {
     "end_time": "2023-11-25T14:51:20.902336Z",
     "start_time": "2023-11-25T14:51:20.499555Z"
    }
   },
   "outputs": [
    {
     "data": {
      "image/png": "[encoded data removed]",
      "text/plain": [
       "<Figure size 640x480 with 1 Axes>"
      ]
     },
     "metadata": {},
     "output_type": "display_data"
    }
   ],
   "source": [
    "plt.scatter(df['view_count'],df['dislikes'])\n",
    "plt.xlabel('views')\n",
    "plt.ylabel('dislikes')\n",
    "plt.title('Correlation between views and Dislikes')\n",
    "plt.show()"
   ]
  },
  {
   "cell_type": "markdown",
   "id": "d527a4c5",
   "metadata": {},
   "source": [
    "\"\"\"The correlation between views and dislikes is 0.7 which means that it has a direct relation.If one increases other also increases.\"\"\""
   ]
  },
  {
   "cell_type": "markdown",
   "id": "4869445e",
   "metadata": {},
   "source": [
    "****14)Display all the information about the videos that were published in January, and mention the count of videos that were published in January****"
   ]
  },
  {
   "cell_type": "code",
   "execution_count": 29,
   "id": "8cf5f5ac",
   "metadata": {
    "ExecuteTime": {
     "end_time": "2023-11-26T05:26:06.968601Z",
     "start_time": "2023-11-26T05:26:06.542185Z"
    }
   },
   "outputs": [
    {
     "data": {
      "text/html": [
       "<div>\n",
       "<style scoped>\n",
       "    .dataframe tbody tr th:only-of-type {\n",
       "        vertical-align: middle;\n",
       "    }\n",
       "\n",
       "    .dataframe tbody tr th {\n",
       "        vertical-align: top;\n",
       "    }\n",
       "\n",
       "    .dataframe thead th {\n",
       "        text-align: right;\n",
       "    }\n",
       "</style>\n",
       "<table border=\"1\" class=\"dataframe\">\n",
       "  <thead>\n",
       "    <tr style=\"text-align: right;\">\n",
       "      <th></th>\n",
       "      <th>video_id</th>\n",
       "      <th>title</th>\n",
       "      <th>channel_id</th>\n",
       "      <th>channel_title</th>\n",
       "      <th>published_at</th>\n",
       "      <th>view_count</th>\n",
       "      <th>likes</th>\n",
       "      <th>dislikes</th>\n",
       "      <th>comment_count</th>\n",
       "      <th>tags</th>\n",
       "      <th>description</th>\n",
       "      <th>published_month</th>\n",
       "    </tr>\n",
       "  </thead>\n",
       "  <tbody>\n",
       "    <tr>\n",
       "      <th>27</th>\n",
       "      <td>-2Gwm7QfBnE</td>\n",
       "      <td>Q&amp;A With Naisha</td>\n",
       "      <td>UCYwNMbogQFzMccPSuy-pPWg</td>\n",
       "      <td>MianTwins</td>\n",
       "      <td>2021-01-21 00:05:47</td>\n",
       "      <td>872372</td>\n",
       "      <td>38626</td>\n",
       "      <td>239</td>\n",
       "      <td>621</td>\n",
       "      <td></td>\n",
       "      <td>Hey Guys!!! this has been the most requested v...</td>\n",
       "      <td>January</td>\n",
       "    </tr>\n",
       "    <tr>\n",
       "      <th>48</th>\n",
       "      <td>-4sfXSHSxzA</td>\n",
       "      <td>SURPRISING BRENT WITH HIS TIKTOK CRUSH!!</td>\n",
       "      <td>UCPpATKqmMV-CNRNWYaDUwiA</td>\n",
       "      <td>Alexa Rivera</td>\n",
       "      <td>2021-01-16 21:40:04</td>\n",
       "      <td>6504784</td>\n",
       "      <td>262477</td>\n",
       "      <td>5779</td>\n",
       "      <td>7907</td>\n",
       "      <td></td>\n",
       "      <td>He had no idea! Thank you guys so much for wat...</td>\n",
       "      <td>January</td>\n",
       "    </tr>\n",
       "    <tr>\n",
       "      <th>95</th>\n",
       "      <td>-AJD1Fc5rpQ</td>\n",
       "      <td>WE ARE HAVING A BABY! | finding out i'm pregna...</td>\n",
       "      <td>UCVsTboAhpnuL6j-tDePvNwQ</td>\n",
       "      <td>Tess Christine</td>\n",
       "      <td>2021-01-03 21:53:48</td>\n",
       "      <td>533084</td>\n",
       "      <td>38965</td>\n",
       "      <td>119</td>\n",
       "      <td>1650</td>\n",
       "      <td></td>\n",
       "      <td>I am so happy to tell you that I am pregnant!!...</td>\n",
       "      <td>January</td>\n",
       "    </tr>\n",
       "    <tr>\n",
       "      <th>103</th>\n",
       "      <td>-AuJiwjsmWk</td>\n",
       "      <td>Do Ugly Foods Taste Worse? Taste Test</td>\n",
       "      <td>UCzpCc5n9hqiVC7HhPwcIKEg</td>\n",
       "      <td>Good Mythical MORE</td>\n",
       "      <td>2021-01-19 11:00:01</td>\n",
       "      <td>1057077</td>\n",
       "      <td>22526</td>\n",
       "      <td>531</td>\n",
       "      <td>773</td>\n",
       "      <td>gmm good mythical morning rhettandlink rhett a...</td>\n",
       "      <td>Today, we're doing a blind taste test to deter...</td>\n",
       "      <td>January</td>\n",
       "    </tr>\n",
       "    <tr>\n",
       "      <th>182</th>\n",
       "      <td>-JhqO2KWr5U</td>\n",
       "      <td>Schlatt gets fit</td>\n",
       "      <td>UCWZp4y1jqBuvLtiyxSs_ZBw</td>\n",
       "      <td>Big guy</td>\n",
       "      <td>2021-01-24 22:50:57</td>\n",
       "      <td>1724965</td>\n",
       "      <td>119431</td>\n",
       "      <td>325</td>\n",
       "      <td>1578</td>\n",
       "      <td>jschlatt big guy jschlatt highlights schlatt j...</td>\n",
       "      <td>#jschlatt #schlatt #bigguy #short</td>\n",
       "      <td>January</td>\n",
       "    </tr>\n",
       "    <tr>\n",
       "      <th>...</th>\n",
       "      <td>...</td>\n",
       "      <td>...</td>\n",
       "      <td>...</td>\n",
       "      <td>...</td>\n",
       "      <td>...</td>\n",
       "      <td>...</td>\n",
       "      <td>...</td>\n",
       "      <td>...</td>\n",
       "      <td>...</td>\n",
       "      <td>...</td>\n",
       "      <td>...</td>\n",
       "      <td>...</td>\n",
       "    </tr>\n",
       "    <tr>\n",
       "      <th>37300</th>\n",
       "      <td>zmzFL5bG-jc</td>\n",
       "      <td>DEVINE MON PERSONNAGE AVANT AKINATOR ! (c'est ...</td>\n",
       "      <td>UCIlr3byh6wmXgcPx_Tm9Ocw</td>\n",
       "      <td>Piwerre</td>\n",
       "      <td>2021-01-16 16:12:19</td>\n",
       "      <td>670357</td>\n",
       "      <td>54462</td>\n",
       "      <td>832</td>\n",
       "      <td>1249</td>\n",
       "      <td>Piwerre frere de michou crouton among us devin...</td>\n",
       "      <td>Discord Piwerre : https://discord.gg/QBduPgAA...</td>\n",
       "      <td>January</td>\n",
       "    </tr>\n",
       "    <tr>\n",
       "      <th>37329</th>\n",
       "      <td>zpzjex7qwrA</td>\n",
       "      <td>Lampard Sacked Within Days Rorys Misery | Chel...</td>\n",
       "      <td>UCkD-ZOixI0a9FjIExDsHsbg</td>\n",
       "      <td>The Kick Off</td>\n",
       "      <td>2021-01-03 20:13:49</td>\n",
       "      <td>428646</td>\n",
       "      <td>12060</td>\n",
       "      <td>296</td>\n",
       "      <td>1505</td>\n",
       "      <td>Premier league Chelsea chelsea 1-3 Man City Ch...</td>\n",
       "      <td>The Kick Off watched Manchester City destroy C...</td>\n",
       "      <td>January</td>\n",
       "    </tr>\n",
       "    <tr>\n",
       "      <th>37345</th>\n",
       "      <td>zqyv-B6mnBM</td>\n",
       "      <td>Lil Wayne - Ain't Got Time (Audio)</td>\n",
       "      <td>UCO9zJy7HWrIS3ojB4Lr7Yqw</td>\n",
       "      <td>Lil Wayne</td>\n",
       "      <td>2021-01-21 05:00:10</td>\n",
       "      <td>2238244</td>\n",
       "      <td>58925</td>\n",
       "      <td>2365</td>\n",
       "      <td>5539</td>\n",
       "      <td>lil wayne weezy weezy wednesday wayne carter y...</td>\n",
       "      <td>Official audio for Lil Wayne \"Ain't Got Time\",...</td>\n",
       "      <td>January</td>\n",
       "    </tr>\n",
       "    <tr>\n",
       "      <th>37383</th>\n",
       "      <td>zwfu1-24T7Q</td>\n",
       "      <td>PRADA Cup Day 1 | Full Race Replay | PRADA Cup...</td>\n",
       "      <td>UCo15ZYO_XDRU9LI30OPtxAg</td>\n",
       "      <td>America's Cup</td>\n",
       "      <td>2021-01-15 04:07:55</td>\n",
       "      <td>317382</td>\n",
       "      <td>2008</td>\n",
       "      <td>83</td>\n",
       "      <td>192</td>\n",
       "      <td>America's Cup Americas Cup AC36 AC75 Presented...</td>\n",
       "      <td>The opening day of the PRADA Cup in Auckland, ...</td>\n",
       "      <td>January</td>\n",
       "    </tr>\n",
       "    <tr>\n",
       "      <th>37418</th>\n",
       "      <td>zziBybeSAtw</td>\n",
       "      <td>PELICANS at LAKERS | FULL GAME HIGHLIGHTS | Ja...</td>\n",
       "      <td>UCWJ2lWNubArHWmf3FIHbfcQ</td>\n",
       "      <td>NBA</td>\n",
       "      <td>2021-01-16 05:39:05</td>\n",
       "      <td>2841917</td>\n",
       "      <td>20759</td>\n",
       "      <td>1049</td>\n",
       "      <td>2624</td>\n",
       "      <td>NBA G League Basketball game-0022000187 Lakers...</td>\n",
       "      <td>PELICANS at LAKERS | FULL GAME HIGHLIGHTS | Ja...</td>\n",
       "      <td>January</td>\n",
       "    </tr>\n",
       "  </tbody>\n",
       "</table>\n",
       "<p>2108 rows × 12 columns</p>\n",
       "</div>"
      ],
      "text/plain": [
       "          video_id                                              title  \\\n",
       "27     -2Gwm7QfBnE                                    Q&A With Naisha   \n",
       "48     -4sfXSHSxzA           SURPRISING BRENT WITH HIS TIKTOK CRUSH!!   \n",
       "95     -AJD1Fc5rpQ  WE ARE HAVING A BABY! | finding out i'm pregna...   \n",
       "103    -AuJiwjsmWk              Do Ugly Foods Taste Worse? Taste Test   \n",
       "182    -JhqO2KWr5U                                   Schlatt gets fit   \n",
       "...            ...                                                ...   \n",
       "37300  zmzFL5bG-jc  DEVINE MON PERSONNAGE AVANT AKINATOR ! (c'est ...   \n",
       "37329  zpzjex7qwrA  Lampard Sacked Within Days Rorys Misery | Chel...   \n",
       "37345  zqyv-B6mnBM                 Lil Wayne - Ain't Got Time (Audio)   \n",
       "37383  zwfu1-24T7Q  PRADA Cup Day 1 | Full Race Replay | PRADA Cup...   \n",
       "37418  zziBybeSAtw  PELICANS at LAKERS | FULL GAME HIGHLIGHTS | Ja...   \n",
       "\n",
       "                     channel_id       channel_title        published_at  \\\n",
       "27     UCYwNMbogQFzMccPSuy-pPWg           MianTwins 2021-01-21 00:05:47   \n",
       "48     UCPpATKqmMV-CNRNWYaDUwiA        Alexa Rivera 2021-01-16 21:40:04   \n",
       "95     UCVsTboAhpnuL6j-tDePvNwQ      Tess Christine 2021-01-03 21:53:48   \n",
       "103    UCzpCc5n9hqiVC7HhPwcIKEg  Good Mythical MORE 2021-01-19 11:00:01   \n",
       "182    UCWZp4y1jqBuvLtiyxSs_ZBw             Big guy 2021-01-24 22:50:57   \n",
       "...                         ...                 ...                 ...   \n",
       "37300  UCIlr3byh6wmXgcPx_Tm9Ocw             Piwerre 2021-01-16 16:12:19   \n",
       "37329  UCkD-ZOixI0a9FjIExDsHsbg        The Kick Off 2021-01-03 20:13:49   \n",
       "37345  UCO9zJy7HWrIS3ojB4Lr7Yqw           Lil Wayne 2021-01-21 05:00:10   \n",
       "37383  UCo15ZYO_XDRU9LI30OPtxAg       America's Cup 2021-01-15 04:07:55   \n",
       "37418  UCWJ2lWNubArHWmf3FIHbfcQ                 NBA 2021-01-16 05:39:05   \n",
       "\n",
       "       view_count   likes  dislikes  comment_count  \\\n",
       "27         872372   38626       239            621   \n",
       "48        6504784  262477      5779           7907   \n",
       "95         533084   38965       119           1650   \n",
       "103       1057077   22526       531            773   \n",
       "182       1724965  119431       325           1578   \n",
       "...           ...     ...       ...            ...   \n",
       "37300      670357   54462       832           1249   \n",
       "37329      428646   12060       296           1505   \n",
       "37345     2238244   58925      2365           5539   \n",
       "37383      317382    2008        83            192   \n",
       "37418     2841917   20759      1049           2624   \n",
       "\n",
       "                                                    tags  \\\n",
       "27                                                         \n",
       "48                                                         \n",
       "95                                                         \n",
       "103    gmm good mythical morning rhettandlink rhett a...   \n",
       "182    jschlatt big guy jschlatt highlights schlatt j...   \n",
       "...                                                  ...   \n",
       "37300  Piwerre frere de michou crouton among us devin...   \n",
       "37329  Premier league Chelsea chelsea 1-3 Man City Ch...   \n",
       "37345  lil wayne weezy weezy wednesday wayne carter y...   \n",
       "37383  America's Cup Americas Cup AC36 AC75 Presented...   \n",
       "37418  NBA G League Basketball game-0022000187 Lakers...   \n",
       "\n",
       "                                             description published_month  \n",
       "27     Hey Guys!!! this has been the most requested v...         January  \n",
       "48     He had no idea! Thank you guys so much for wat...         January  \n",
       "95     I am so happy to tell you that I am pregnant!!...         January  \n",
       "103    Today, we're doing a blind taste test to deter...         January  \n",
       "182                    #jschlatt #schlatt #bigguy #short         January  \n",
       "...                                                  ...             ...  \n",
       "37300   Discord Piwerre : https://discord.gg/QBduPgAA...         January  \n",
       "37329  The Kick Off watched Manchester City destroy C...         January  \n",
       "37345  Official audio for Lil Wayne \"Ain't Got Time\",...         January  \n",
       "37383  The opening day of the PRADA Cup in Auckland, ...         January  \n",
       "37418  PELICANS at LAKERS | FULL GAME HIGHLIGHTS | Ja...         January  \n",
       "\n",
       "[2108 rows x 12 columns]"
      ]
     },
     "execution_count": 29,
     "metadata": {},
     "output_type": "execute_result"
    }
   ],
   "source": [
    "jan_vedios = df[df['published_month'] == 'January']\n",
    "jan_vedios"
   ]
  },
  {
   "cell_type": "code",
   "execution_count": 30,
   "id": "2d5d216d",
   "metadata": {
    "ExecuteTime": {
     "end_time": "2023-11-26T05:26:46.793343Z",
     "start_time": "2023-11-26T05:26:46.774412Z"
    }
   },
   "outputs": [
    {
     "name": "stdout",
     "output_type": "stream",
     "text": [
      "2108\n"
     ]
    }
   ],
   "source": [
    "jan_count = jan_vedios.shape[0]\n",
    "print(jan_count)"
   ]
  },
  {
   "cell_type": "markdown",
   "id": "19e303ab",
   "metadata": {
    "ExecuteTime": {
     "end_time": "2023-11-26T05:27:12.862555Z",
     "start_time": "2023-11-26T05:27:12.840797Z"
    }
   },
   "source": [
    "\"\"\"The number of videos that were published in the month of January were 2108.\"\"\""
   ]
  },
  {
   "cell_type": "code",
   "execution_count": null,
   "id": "b6d29d4d",
   "metadata": {},
   "outputs": [],
   "source": []
  }
 ],
 "metadata": {
  "kernelspec": {
   "display_name": "Python 3 (ipykernel)",
   "language": "python",
   "name": "python3"
  },
  "language_info": {
   "codemirror_mode": {
    "name": "ipython",
    "version": 3
   },
   "file_extension": ".py",
   "mimetype": "text/x-python",
   "name": "python",
   "nbconvert_exporter": "python",
   "pygments_lexer": "ipython3",
   "version": "3.11.5"
  },
  "varInspector": {
   "cols": {
    "lenName": 16,
    "lenType": 16,
    "lenVar": 40
   },
   "kernels_config": {
    "python": {
     "delete_cmd_postfix": "",
     "delete_cmd_prefix": "del ",
     "library": "var_list.py",
     "varRefreshCmd": "print(var_dic_list())"
    },
    "r": {
     "delete_cmd_postfix": ") ",
     "delete_cmd_prefix": "rm(",
     "library": "var_list.r",
     "varRefreshCmd": "cat(var_dic_list()) "
    }
   },
   "types_to_exclude": [
    "module",
    "function",
    "builtin_function_or_method",
    "instance",
    "_Feature"
   ],
   "window_display": false
  }
 },
 "nbformat": 4,
 "nbformat_minor": 5
}
